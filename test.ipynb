{
 "cells": [
  {
   "cell_type": "code",
   "execution_count": 1,
   "metadata": {},
   "outputs": [
    {
     "name": "stdout",
     "output_type": "stream",
     "text": [
      "['text', 'tokens_text', 'layer_embeddings']\n"
     ]
    }
   ],
   "source": [
    "import json\n",
    "\n",
    "# ファイルパスを指定\n",
    "file_path = 'cache/internal/e3b0c44298fc1c149afbf4c8996fb92427ae41e4649b934ca495991b7852b855_layer_11_embeddings.json'\n",
    "\n",
    "# JSONファイルを読み込む\n",
    "with open(file_path, 'r') as file:\n",
    "    data = json.load(file)\n",
    "\n",
    "# キーの一覧を取得\n",
    "keys = data.keys()\n",
    "\n",
    "# キーの一覧を表示\n",
    "print(list(keys))\n"
   ]
  },
  {
   "cell_type": "code",
   "execution_count": 35,
   "metadata": {},
   "outputs": [],
   "source": [
    "from PIL import Image, ImageSequence\n",
    "\n",
    "def slow_down_gif(input_path, output_path, delay_factor=2):\n",
    "    # GIFを開く\n",
    "    with Image.open(input_path) as im:\n",
    "        frames = [frame.copy() for frame in ImageSequence.Iterator(im)]\n",
    "        \n",
    "        # 新しいフレーム遅延時間を設定（既存の遅延時間にdelay_factorを掛ける）\n",
    "        new_frames = []\n",
    "        for frame in frames:\n",
    "            new_frame = frame.copy()\n",
    "            new_frame.info['duration'] *= delay_factor  # 遅延を増やす\n",
    "            new_frames.append(new_frame)\n",
    "        \n",
    "        # 新しいGIFとして保存\n",
    "        new_frames[0].save(output_path, save_all=True, append_images=new_frames[1:], loop=0, optimize=False)\n",
    "\n",
    "# 使用例\n",
    "input_gif = 'image/internal/tsne/tsne_visualization.gif'\n",
    "output_gif = 'image/internal/tsne/tsne_visualization.gif'\n",
    "slow_down_gif(input_gif, output_gif, delay_factor=2)  # 遅延時間を2倍に設定\n"
   ]
  }
 ],
 "metadata": {
  "kernelspec": {
   "display_name": "Python 3",
   "language": "python",
   "name": "python3"
  },
  "language_info": {
   "codemirror_mode": {
    "name": "ipython",
    "version": 3
   },
   "file_extension": ".py",
   "mimetype": "text/x-python",
   "name": "python",
   "nbconvert_exporter": "python",
   "pygments_lexer": "ipython3",
   "version": "3.9.19"
  }
 },
 "nbformat": 4,
 "nbformat_minor": 2
}
