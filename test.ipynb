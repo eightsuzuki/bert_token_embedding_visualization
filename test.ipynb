{
 "cells": [
  {
   "cell_type": "code",
   "execution_count": 1,
   "metadata": {},
   "outputs": [
    {
     "name": "stdout",
     "output_type": "stream",
     "text": [
      "['text', 'tokens_text', 'layer_embeddings']\n"
     ]
    }
   ],
   "source": [
    "import json\n",
    "\n",
    "# ファイルパスを指定\n",
    "file_path = 'cache/internal/e3b0c44298fc1c149afbf4c8996fb92427ae41e4649b934ca495991b7852b855_layer_11_embeddings.json'\n",
    "\n",
    "# JSONファイルを読み込む\n",
    "with open(file_path, 'r') as file:\n",
    "    data = json.load(file)\n",
    "\n",
    "# キーの一覧を取得\n",
    "keys = data.keys()\n",
    "\n",
    "# キーの一覧を表示\n",
    "print(list(keys))\n"
   ]
  }
 ],
 "metadata": {
  "kernelspec": {
   "display_name": "Python 3",
   "language": "python",
   "name": "python3"
  },
  "language_info": {
   "codemirror_mode": {
    "name": "ipython",
    "version": 3
   },
   "file_extension": ".py",
   "mimetype": "text/x-python",
   "name": "python",
   "nbconvert_exporter": "python",
   "pygments_lexer": "ipython3",
   "version": "3.9.19"
  }
 },
 "nbformat": 4,
 "nbformat_minor": 2
}
